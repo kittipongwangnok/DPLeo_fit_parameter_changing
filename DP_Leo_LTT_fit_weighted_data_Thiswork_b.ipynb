{
 "cells": [
  {
   "cell_type": "code",
   "execution_count": 1,
   "id": "b4f4679b",
   "metadata": {},
   "outputs": [],
   "source": [
    "#Import module\n",
    "import sys\n",
    "import os\n",
    "import numpy as np\n",
    "import matplotlib.pyplot as plt\n",
    "from scipy.optimize import curve_fit\n",
    "from scipy import stats\n",
    "import scipy.optimize as optimization  \n",
    "import pandas as pd\n",
    "#Latex font\n",
    "import matplotlib as mpl\n",
    "from matplotlib import rc\n",
    "plt.rc('text', usetex=True)\n",
    "plt.rc('font', family='serif',size=16)"
   ]
  },
  {
   "cell_type": "code",
   "execution_count": 2,
   "id": "b5835223",
   "metadata": {},
   "outputs": [
    {
     "name": "stdout",
     "output_type": "stream",
     "text": [
      "2022_Feb_week4_Weighted_mean_calculation_This_work_combined.out\r\n",
      "DP_Leo_LTT_fit_weighted_data_Thiswork_K.ipynb\r\n",
      "DP_Leo_LTT_fit_weighted_data_Thiswork_K_Res.jpg\r\n",
      "DP_Leo_LTT_fit_weighted_data_Thiswork_Res.jpg\r\n",
      "DP_Leo_LTT_fit_weighted_data_Thiswork_b.ipynb\r\n",
      "DP_Leo_LTT_fit_weighted_data_Thiswork_b_Res.jpg\r\n",
      "DP_Leo_LTT_fit_weighted_data_Thiswork_e.ipynb\r\n",
      "DP_Leo_LTT_fit_weighted_data_Thiswork_e_Res.jpg\r\n",
      "DP_Leo_LTT_fit_weighted_data_Thiswork_interporate.out\r\n",
      "DP_Leo_LTT_fit_weighted_data_Thiswork_interporate_K100.out\r\n"
     ]
    }
   ],
   "source": [
    "ls"
   ]
  },
  {
   "cell_type": "code",
   "execution_count": 3,
   "id": "7012f180",
   "metadata": {},
   "outputs": [],
   "source": [
    "#Read data ---#1\n",
    "Input = \"2022_Feb_week4_Weighted_mean_calculation_This_work_combined.out\"\n",
    "Data   = np.genfromtxt(Input)\n",
    "\n",
    "BJD_time = Data[:,0]\n",
    "OC = Data[:,1]\n",
    "OC_err = Data[:,2]"
   ]
  },
  {
   "cell_type": "code",
   "execution_count": 4,
   "id": "104842b6",
   "metadata": {},
   "outputs": [],
   "source": [
    "#t = T0_bjd + P0_day*Epoch\n",
    "x = BJD_time\n",
    "y = OC\n",
    "dy = OC_err\n",
    "\n",
    "len_x = len(x)\n",
    "#print(len_x)\n",
    "#print(x)"
   ]
  },
  {
   "cell_type": "code",
   "execution_count": 5,
   "id": "8e05b6fe",
   "metadata": {},
   "outputs": [],
   "source": [
    "m = 0\n",
    "c = 0\n",
    "K = 33.7        #m/s\n",
    "e = 0               #No-unit\n",
    "b = 0.0005\n",
    "w = -1.36     #rad"
   ]
  },
  {
   "cell_type": "code",
   "execution_count": 6,
   "id": "9f7de0f4",
   "metadata": {},
   "outputs": [],
   "source": [
    "def LTT_fit(x,m,c,K,e,b,w):\n",
    "    return m*x + c + K*(1 - e*e)*np.sin(b*x - w)/(1 + e*np.cos(b*x))"
   ]
  },
  {
   "cell_type": "code",
   "execution_count": 7,
   "id": "1c6455ac",
   "metadata": {},
   "outputs": [],
   "source": [
    "import scipy.optimize as optimization  \n",
    "guess = (m,c,K,e,b,w)\n",
    "#guess = [41.9455, 0.39, 0.0005, -1.36]\n",
    "params, params_covariance = optimization.curve_fit(LTT_fit, x, y,sigma=dy, absolute_sigma=True,p0=guess)"
   ]
  },
  {
   "cell_type": "code",
   "execution_count": 8,
   "id": "7a26da54",
   "metadata": {},
   "outputs": [],
   "source": [
    "m = params[0]\n",
    "c = params[1]\n",
    "K = params[2]\n",
    "e = params[3]\n",
    "b = params[4]\n",
    "w = params[5]\n",
    "\n",
    "dm = params_covariance[0,0]\n",
    "dc = params_covariance[1,1]\n",
    "dK = params_covariance[2,2]\n",
    "de = params_covariance[3,3]\n",
    "db = params_covariance[4,4]\n",
    "dw = params_covariance[5,5]\n",
    "\n",
    "ocfit = LTT_fit(x,*params)\n",
    "\n",
    "if e<0:\n",
    "    w -= np.pi\n",
    "    e *= -1\n",
    "    w_deg = w*180/np.pi"
   ]
  },
  {
   "cell_type": "code",
   "execution_count": 9,
   "id": "79c6e91e",
   "metadata": {},
   "outputs": [
    {
     "name": "stdout",
     "output_type": "stream",
     "text": [
      "The Keplerian parameters (b = 0.0005 rad):\n",
      "m = 0.0006148077754996115 +/- 0.0004398518117357549 [s]\n",
      "c = -39.27836968250542 +/- 19.735804363980765 [s]\n",
      "K = 47.01369192315678 +/- 1.182379833905439 [s]\n",
      "e = 0.13525377052641724 +/- 0.07845789520501215 [days]\n",
      "b = 0.0005111664682947285 +/- 1.5420755195245228e-05 [rad]\n",
      "w = -5.919757329295307 +/- 0.7455696722034713 [rad]\n",
      "w_deg = -339.177110710257 +/- 42.71799555021115 [deg]\n",
      "Pc = 12291.85734373489 +/- 70.28844753146117 [days]\n",
      "Pc_yr = 33.653271303860066 +/- 0.19243928140030436 [years]\n",
      "Semi-major axis = 10.423610894628863 +/- 0.03973684404599882 [AU]\n",
      "Mass sin(i)Mp= 5.289844305623588 +/- 0.1576868787554597 [MJ]\n"
     ]
    }
   ],
   "source": [
    "print(\"The Keplerian parameters (b = 0.0005 rad):\")\n",
    "print(\"m =\", m, \"+/-\", dm**0.5, \"[s]\")\n",
    "print(\"c =\", c, \"+/-\", dc**0.5, \"[s]\")\n",
    "print(\"K =\", K, \"+/-\", dK**0.5, \"[s]\")\n",
    "print(\"e =\", e, \"+/-\", de**0.5, \"[days]\")\n",
    "print(\"b =\", b, \"+/-\", db**0.5, \"[rad]\")\n",
    "print(\"w =\", w, \"+/-\", dw**0.5, \"[rad]\")\n",
    "print(\"w_deg =\", w*(180/np.pi), \"+/-\", dw**0.5*(180/np.pi), \"[deg]\")\n",
    "\n",
    "#The period of the third body\n",
    "P_d = 2*np.pi/b\n",
    "dP_d = P_d*2*np.pi*db/(b**2)\n",
    "\n",
    "#print(\"The orbital period of the third body (years):\",P_d, '+/-', dP_d)\n",
    "print(\"Pc =\", P_d, \"+/-\", dP_d, \"[days]\")\n",
    "\n",
    "P_yr = P_d/365.25\n",
    "dP_yr = dP_d/365.25\n",
    "#print(\"The orbital period of the third body (days):\",P_yr, '+/-', dP_yr)\n",
    "print(\"Pc_yr =\", P_yr, \"+/-\", dP_yr, \"[years]\")\n",
    "\n",
    "a_au = (P_yr**2)**(1./3)     # semi-major axis in au\n",
    "da_au = np.sqrt((2*dP_d/(3*P_d))**2)*a_au\n",
    "#print(\"Semi-major axis (AU):\",a_au, '+/-', da_au)\n",
    "print(\"Semi-major axis =\", a_au, \"+/-\", da_au, \"[AU]\")\n",
    "\n",
    "K_auyr = K*2.1096256684e-4      # K in au/yr\n",
    "\n",
    "# compute planet mass and convert to Jupiter-mass units\n",
    "mp = (2*np.pi)**(-1)*K_auyr*np.sqrt(1-e**2)*(P_yr)**(1/3)\n",
    "mp_mjup = mp*1047.59421\n",
    "dmp_mjup = mp_mjup * np.sqrt((dK/K)**2 + (dP_d/(3*P_d))**2 + (e*de/np.sqrt(1-e*e))**2 )\n",
    "\n",
    "print ('Mass sin(i)Mp=', mp_mjup ,'+/-', dmp_mjup, \"[MJ]\")"
   ]
  },
  {
   "cell_type": "code",
   "execution_count": 10,
   "id": "7a48fd6a",
   "metadata": {},
   "outputs": [
    {
     "name": "stdout",
     "output_type": "stream",
     "text": [
      "[ -1.95878988  14.24895205  29.01263133  32.10979527  23.62593969\n",
      "  19.18033847  10.51003788 -47.70245027 -50.50008509 -27.31987744\n",
      " -26.92082105 -26.37317709 -25.83564317 -23.22259063 -22.75641543\n",
      " -21.80333875 -21.07279305 -18.18480292  10.00752923  18.11863342\n",
      "  30.35575739  31.42301298  31.42301298  41.70055985  44.42254774]\n",
      "Reduced_chisq: 0.8097322295532281\n"
     ]
    }
   ],
   "source": [
    "x_min, x_max = np.amin(x), np.amax(x)\n",
    "x_line = np.linspace(x_min, x_max)\n",
    "y_line = LTT_fit(x_line, *params) #### For all interporation \n",
    "#print(x_line)\n",
    "print(ocfit)\n",
    "#print(ocfit)\n",
    "#print(x)\n",
    "\n",
    "#Reduced_chisqrt\n",
    "m = 6\n",
    "dof = len_x - m\n",
    "Chi_sqr = ((y - ocfit)**2/(dy)**2)/dof\n",
    "Reduced_chisq = sum(Chi_sqr)\n",
    "print(\"Reduced_chisq:\",Reduced_chisq)"
   ]
  },
  {
   "cell_type": "code",
   "execution_count": 11,
   "id": "597b1143",
   "metadata": {},
   "outputs": [
    {
     "data": {
      "image/png": "[encoded data removed]",
      "text/plain": [
       "<Figure size 720x360 with 2 Axes>"
      ]
     },
     "metadata": {
      "needs_background": "light"
     },
     "output_type": "display_data"
    }
   ],
   "source": [
    "N_BMJD = 2400000\n",
    "fig, (ax0, ax1) = plt.subplots(2, 1, gridspec_kw={'height_ratios': [4, 1]}, sharex=True, sharey=False, figsize=(10, 5), tight_layout=True)\n",
    "plt.xlabel('BJD-'+str(N_BMJD))\n",
    "\n",
    "ax0.tick_params(direction='in', which='both', bottom='on',top='on', right = 'on')\n",
    "ax1.tick_params(direction='in', which='both', bottom='on',top='on', right = 'on')\n",
    "\n",
    "ax0.errorbar(x, y, yerr= dy, fmt='o', markersize=8, color='blue', ecolor='lightgray',label='Data')\n",
    "ax0.plot(x_line, y_line, '-', color='red',label='LTT\\_fit\\_b= 0.0005 rad, $\\chi_{red}^{2}$ = '+str('%0.3f' %(Reduced_chisq)))\n",
    "\n",
    "ax0.set_ylabel('O-C (sec)')\n",
    "ax0.legend(loc=\"best\")\n",
    "\n",
    "Residual = y-ocfit\n",
    "\n",
    "ax1.set_ylabel('Residuals (sec)')\n",
    "ax1.errorbar(x, Residual, yerr= dy, fmt='o', markersize=8, color='black', ecolor='lightgray')\n",
    "ax1.axhline(y=0, color='black', linestyle='-')\n",
    "#ax1.legend(loc=\"best\")\n",
    "#plt.savefig(\"DP_Leo_LTT_fit_weighted_data_Thiswork_K_Res.jpg\", dpi=1000)\n",
    "plt.show()"
   ]
  },
  {
   "cell_type": "markdown",
   "id": "5397a233",
   "metadata": {},
   "source": [
    "#### The changing parameters: b = 0.0001 rad"
   ]
  },
  {
   "cell_type": "code",
   "execution_count": 12,
   "id": "0e22a130",
   "metadata": {},
   "outputs": [],
   "source": [
    "m = 0\n",
    "c = 0\n",
    "K = 33.7        #m/s\n",
    "e = 0               #No-unit\n",
    "b = 0.0001\n",
    "w = -1.36     #rad"
   ]
  },
  {
   "cell_type": "code",
   "execution_count": 13,
   "id": "73a58eaf",
   "metadata": {},
   "outputs": [],
   "source": [
    "def LTT_fit_b0p0001(x,m,c,e,b,w):\n",
    "    return m*x + c + K*(1 - e*e)*np.sin(b*x - w)/(1 + e*np.cos(b*x))"
   ]
  },
  {
   "cell_type": "code",
   "execution_count": 14,
   "id": "10356e35",
   "metadata": {},
   "outputs": [],
   "source": [
    "import scipy.optimize as optimization  \n",
    "guess = (m,c,K,e,w)\n",
    "#guess = [41.9455, 0.39, 0.0005, -1.36]\n",
    "params_b0p0001, params_covariance_b0p0001 = optimization.curve_fit(LTT_fit_b0p0001, x, y,sigma=dy, absolute_sigma=True,p0=guess)"
   ]
  },
  {
   "cell_type": "code",
   "execution_count": 15,
   "id": "0dbf2ba7",
   "metadata": {},
   "outputs": [],
   "source": [
    "m = params_b0p0001[0]\n",
    "c = params_b0p0001[1]\n",
    "K = params_b0p0001[2]\n",
    "e = params_b0p0001[3]\n",
    "w = params_b0p0001[4]\n",
    "\n",
    "dm = params_covariance_b0p0001[0,0]\n",
    "dc = params_covariance_b0p0001[1,1]\n",
    "dK = params_covariance_b0p0001[2,2]\n",
    "de = params_covariance_b0p0001[3,3]\n",
    "dw = params_covariance_b0p0001[4,4]\n",
    "\n",
    "ocfit = LTT_fit_b0p0001(x,*params_b0p0001)\n",
    "\n",
    "if e<0:\n",
    "    w -= np.pi\n",
    "    e *= -1\n",
    "    w_deg = w*180/np.pi"
   ]
  },
  {
   "cell_type": "code",
   "execution_count": 16,
   "id": "ceb1f849",
   "metadata": {},
   "outputs": [
    {
     "name": "stdout",
     "output_type": "stream",
     "text": [
      "The Keplerian parameters (b = 0.0001 rad):\n",
      "m = 0.00463899661107019 +/- 3.784127123056962 [s]\n",
      "c = -629.0818059243824 +/- nan [s]\n",
      "K = 11.905867558377148 +/- nan [days]\n",
      "e = 5.89673434028486e-08 +/- 0.00761586366335107 [rad]\n",
      "w = -1.3612921576865407 +/- 184294.58307406548 [rad]\n",
      "w_deg = -77.99629531969613 +/- 10559301.797267089 [deg]\n",
      "Pc = 62831.85307179586 +/- 9387.955499261121 [days]\n",
      "Pc_yr = 172.0242383895848 +/- 25.7028213532132 [years]\n",
      "Semi-major axis = 30.93093838319925 +/- 3.0810091686038796 [AU]\n",
      "Mass sin(i)Mp= 2.329036083790249 +/- 53413120646.475555 [MJ]\n"
     ]
    },
    {
     "name": "stderr",
     "output_type": "stream",
     "text": [
      "/var/folders/40/qs1cq6qj3mn08n4rf87fxb6m0000gn/T/ipykernel_3371/2225819385.py:3: RuntimeWarning: invalid value encountered in double_scalars\n",
      "  print(\"c =\", c, \"+/-\", dc**0.5, \"[s]\")\n",
      "/var/folders/40/qs1cq6qj3mn08n4rf87fxb6m0000gn/T/ipykernel_3371/2225819385.py:4: RuntimeWarning: invalid value encountered in double_scalars\n",
      "  print(\"K =\", K, \"+/-\", dK**0.5, \"[days]\")\n"
     ]
    }
   ],
   "source": [
    "print(\"The Keplerian parameters (b = 0.0001 rad):\")\n",
    "print(\"m =\", m, \"+/-\", dm**0.5, \"[s]\")\n",
    "print(\"c =\", c, \"+/-\", dc**0.5, \"[s]\")\n",
    "print(\"K =\", K, \"+/-\", dK**0.5, \"[days]\")\n",
    "print(\"e =\", e, \"+/-\", de**0.5, \"[rad]\")\n",
    "print(\"w =\", w, \"+/-\", dw**0.5, \"[rad]\")\n",
    "print(\"w_deg =\", w*(180/np.pi), \"+/-\", dw**0.5*(180/np.pi), \"[deg]\")\n",
    "\n",
    "#The period of the third body\n",
    "P_d = 2*np.pi/b\n",
    "dP_d = P_d*2*np.pi*db/(b**2)\n",
    "\n",
    "#print(\"The orbital period of the third body (years):\",P_d, '+/-', dP_d)\n",
    "print(\"Pc =\", P_d, \"+/-\", dP_d, \"[days]\")\n",
    "\n",
    "P_yr = P_d/365.25\n",
    "dP_yr = dP_d/365.25\n",
    "#print(\"The orbital period of the third body (days):\",P_yr, '+/-', dP_yr)\n",
    "print(\"Pc_yr =\", P_yr, \"+/-\", dP_yr, \"[years]\")\n",
    "\n",
    "a_au = (P_yr**2)**(1./3)     # semi-major axis in au\n",
    "da_au = np.sqrt((2*dP_d/(3*P_d))**2)*a_au\n",
    "#print(\"Semi-major axis (AU):\",a_au, '+/-', da_au)\n",
    "print(\"Semi-major axis =\", a_au, \"+/-\", da_au, \"[AU]\")\n",
    "\n",
    "K_auyr = K*2.1096256684e-4      # K in au/yr\n",
    "\n",
    "# compute planet mass and convert to Jupiter-mass units\n",
    "mp = (2*np.pi)**(-1)*K_auyr*np.sqrt(1-e**2)*(P_yr)**(1/3)\n",
    "mp_mjup = mp*1047.59421\n",
    "dmp_mjup = mp_mjup * np.sqrt((dK/K)**2 + (dP_d/(3*P_d))**2 + (e*de/np.sqrt(1-e*e))**2 )\n",
    "\n",
    "print ('Mass sin(i)Mp=', mp_mjup ,'+/-', dmp_mjup, \"[MJ]\")"
   ]
  },
  {
   "cell_type": "code",
   "execution_count": 17,
   "id": "4bf3bca0",
   "metadata": {},
   "outputs": [
    {
     "name": "stdout",
     "output_type": "stream",
     "text": [
      "[-297.03612342 -293.42434094 -289.44566587 -288.35327698 -276.88223966\n",
      " -275.89374851 -274.17762649 -261.53113215 -259.61184609 -247.39203243\n",
      " -247.29215392 -247.15593147 -247.02313969 -246.38940244 -246.27822053\n",
      " -246.05251464 -245.88088953 -245.2129301  -239.08069789 -237.27795909\n",
      " -234.27488901 -233.98265068 -233.98265068 -230.50500116 -229.00664755]\n",
      "Reduced_chisq: 19358.73611496005\n"
     ]
    }
   ],
   "source": [
    "x_min, x_max = np.amin(x), np.amax(x)\n",
    "x_line_b0p0001 = np.linspace(x_min, x_max)\n",
    "y_line_b0p0001 = LTT_fit_b0p0001(x_line_b0p0001, *params_b0p0001) #### For all interporation \n",
    "#print(x_line)\n",
    "print(ocfit)\n",
    "#print(ocfit)\n",
    "#print(x)\n",
    "\n",
    "#Reduced_chisqrt\n",
    "m = 5\n",
    "dof = len_x - m\n",
    "Chi_sqr = ((y - ocfit)**2/(dy)**2)/dof\n",
    "Reduced_chisq_b0p0001 = sum(Chi_sqr)\n",
    "print(\"Reduced_chisq:\",Reduced_chisq_b0p0001)"
   ]
  },
  {
   "cell_type": "code",
   "execution_count": 18,
   "id": "e8b71a64",
   "metadata": {},
   "outputs": [
    {
     "data": {
      "image/png": "[encoded data removed]",
      "text/plain": [
       "<Figure size 720x360 with 1 Axes>"
      ]
     },
     "metadata": {
      "needs_background": "light"
     },
     "output_type": "display_data"
    }
   ],
   "source": [
    "N_BMJD = 2400000\n",
    "#print(phase)\n",
    "#fig,ax = plt.subplots()\n",
    "fig=plt.figure(figsize=(10, 5), tight_layout=True)\n",
    "plt.tick_params(direction='in', which='both', bottom='on',top='on', right = 'on')\n",
    "#plt.errorbar(x,y,dy,fmt='ok')\n",
    "plt.errorbar(x, y, yerr= dy, fmt='o', markersize=8, color='blue', ecolor='lightgray')\n",
    "plt.plot(x_line_b0p0001,y_line_b0p0001,'-g',label='LTT\\_fit\\_b = 0.0001 rad, $\\chi_{red}^{2}$ = '+str('%0.3f' %(Reduced_chisq_b0p0001)))\n",
    "plt.plot(x_line, y_line, '-', color='red',label='LTT\\_fit\\_b= 0.0005 rad, $\\chi_{red}^{2}$ = '+str('%0.3f' %(Reduced_chisq)))\n",
    "#plt.title('phased RV data for 51 Peg b')\n",
    "plt.xlabel('BJD-'+str(N_BMJD))\n",
    "plt.ylabel('O-C (sec)')\n",
    "plt.legend(loc=\"best\")\n",
    "plt.show()"
   ]
  },
  {
   "cell_type": "markdown",
   "id": "04b87536",
   "metadata": {},
   "source": [
    "#### The changing parameters: b = 0.0007"
   ]
  },
  {
   "cell_type": "code",
   "execution_count": 19,
   "id": "ae719a78",
   "metadata": {},
   "outputs": [],
   "source": [
    "m = 0\n",
    "c = 0\n",
    "K = 33.7        #m/s\n",
    "e = 0               #No-unit\n",
    "b = 0.0007\n",
    "w = -1.36     #rad"
   ]
  },
  {
   "cell_type": "code",
   "execution_count": 20,
   "id": "c514466b",
   "metadata": {},
   "outputs": [],
   "source": [
    "def LTT_fit_b0p0007(x,m,c,e,b,w):\n",
    "    return m*x + c + K*(1 - e*e)*np.sin(b*x - w)/(1 + e*np.cos(b*x))"
   ]
  },
  {
   "cell_type": "code",
   "execution_count": 21,
   "id": "b1d4ab41",
   "metadata": {},
   "outputs": [],
   "source": [
    "import scipy.optimize as optimization  \n",
    "guess = (m,c,K,e,w)\n",
    "#guess = [41.9455, 0.39, 0.0005, -1.36]\n",
    "params_b0p0007, params_covariance_b0p0007 = optimization.curve_fit(LTT_fit_b0p0007, x, y,sigma=dy, absolute_sigma=True,p0=guess)"
   ]
  },
  {
   "cell_type": "code",
   "execution_count": 22,
   "id": "0918d9b7",
   "metadata": {},
   "outputs": [],
   "source": [
    "m = params_b0p0007[0]\n",
    "c = params_b0p0007[1]\n",
    "K = params_b0p0007[2]\n",
    "e = params_b0p0007[3]\n",
    "w = params_b0p0007[4]\n",
    "\n",
    "dm = params_covariance_b0p0007[0,0]\n",
    "dc = params_covariance_b0p0007[1,1]\n",
    "dK = params_covariance_b0p0007[2,2]\n",
    "de = params_covariance_b0p0007[3,3]\n",
    "dw = params_covariance_b0p0007[4,4]\n",
    "\n",
    "ocfit = LTT_fit_b0p0007(x,*params_b0p0007)\n",
    "\n",
    "if e<0:\n",
    "    w -= np.pi\n",
    "    e *= -1\n",
    "    w_deg = w*180/np.pi"
   ]
  },
  {
   "cell_type": "code",
   "execution_count": 23,
   "id": "e13e10b9",
   "metadata": {},
   "outputs": [
    {
     "name": "stdout",
     "output_type": "stream",
     "text": [
      "The Keplerian parameters (b = 0.0007 rad):\n",
      "m = 0.00463899661107019 +/- 3.784127123056962 [s]\n",
      "c = -629.0818059243824 +/- nan [s]\n",
      "K = 11.905867558377148 +/- nan [days]\n",
      "e = 5.89673434028486e-08 +/- 0.00761586366335107 [rad]\n",
      "w = -1.3612921576865407 +/- 184294.58307406548 [rad]\n",
      "w_deg = -77.99629531969613 +/- 10559301.797267089 [deg]\n",
      "Pc = 8975.979010256551 +/- 27.37013265090706 [days]\n",
      "Pc_yr = 24.57489119851212 +/- 0.07493533922219592 [years]\n",
      "Semi-major axis = 8.452679506519035 +/- 0.01718296942574343 [AU]\n",
      "Mass sin(i)Mp= 1.2175221486090282 +/- 27922133910.256268 [MJ]\n"
     ]
    },
    {
     "name": "stderr",
     "output_type": "stream",
     "text": [
      "/var/folders/40/qs1cq6qj3mn08n4rf87fxb6m0000gn/T/ipykernel_3371/2949562705.py:3: RuntimeWarning: invalid value encountered in double_scalars\n",
      "  print(\"c =\", c, \"+/-\", dc**0.5, \"[s]\")\n",
      "/var/folders/40/qs1cq6qj3mn08n4rf87fxb6m0000gn/T/ipykernel_3371/2949562705.py:4: RuntimeWarning: invalid value encountered in double_scalars\n",
      "  print(\"K =\", K, \"+/-\", dK**0.5, \"[days]\")\n"
     ]
    }
   ],
   "source": [
    "print(\"The Keplerian parameters (b = 0.0007 rad):\")\n",
    "print(\"m =\", m, \"+/-\", dm**0.5, \"[s]\")\n",
    "print(\"c =\", c, \"+/-\", dc**0.5, \"[s]\")\n",
    "print(\"K =\", K, \"+/-\", dK**0.5, \"[days]\")\n",
    "print(\"e =\", e, \"+/-\", de**0.5, \"[rad]\")\n",
    "print(\"w =\", w, \"+/-\", dw**0.5, \"[rad]\")\n",
    "print(\"w_deg =\", w*(180/np.pi), \"+/-\", dw**0.5*(180/np.pi), \"[deg]\")\n",
    "\n",
    "#The period of the third body\n",
    "P_d = 2*np.pi/b\n",
    "dP_d = P_d*2*np.pi*db/(b**2)\n",
    "\n",
    "#print(\"The orbital period of the third body (years):\",P_d, '+/-', dP_d)\n",
    "print(\"Pc =\", P_d, \"+/-\", dP_d, \"[days]\")\n",
    "\n",
    "P_yr = P_d/365.25\n",
    "dP_yr = dP_d/365.25\n",
    "#print(\"The orbital period of the third body (days):\",P_yr, '+/-', dP_yr)\n",
    "print(\"Pc_yr =\", P_yr, \"+/-\", dP_yr, \"[years]\")\n",
    "\n",
    "a_au = (P_yr**2)**(1./3)     # semi-major axis in au\n",
    "da_au = np.sqrt((2*dP_d/(3*P_d))**2)*a_au\n",
    "#print(\"Semi-major axis (AU):\",a_au, '+/-', da_au)\n",
    "print(\"Semi-major axis =\", a_au, \"+/-\", da_au, \"[AU]\")\n",
    "\n",
    "K_auyr = K*2.1096256684e-4      # K in au/yr\n",
    "\n",
    "# compute planet mass and convert to Jupiter-mass units\n",
    "mp = (2*np.pi)**(-1)*K_auyr*np.sqrt(1-e**2)*(P_yr)**(1/3)\n",
    "mp_mjup = mp*1047.59421\n",
    "dmp_mjup = mp_mjup * np.sqrt((dK/K)**2 + (dP_d/(3*P_d))**2 + (e*de/np.sqrt(1-e*e))**2 )\n",
    "\n",
    "print ('Mass sin(i)Mp=', mp_mjup ,'+/-', dmp_mjup, \"[MJ]\")"
   ]
  },
  {
   "cell_type": "code",
   "execution_count": 24,
   "id": "f3598424",
   "metadata": {},
   "outputs": [
    {
     "name": "stdout",
     "output_type": "stream",
     "text": [
      "[-297.03612342 -293.42434094 -289.44566587 -288.35327698 -276.88223966\n",
      " -275.89374851 -274.17762649 -261.53113215 -259.61184609 -247.39203243\n",
      " -247.29215392 -247.15593147 -247.02313969 -246.38940244 -246.27822053\n",
      " -246.05251464 -245.88088953 -245.2129301  -239.08069789 -237.27795909\n",
      " -234.27488901 -233.98265068 -233.98265068 -230.50500116 -229.00664755]\n",
      "Reduced_chisq: 19358.73611496005\n"
     ]
    }
   ],
   "source": [
    "x_min, x_max = np.amin(x), np.amax(x)\n",
    "x_line_b0p0007 = np.linspace(x_min, x_max)\n",
    "y_line_b0p0007 = LTT_fit_b0p0007(x_line_b0p0007, *params_b0p0007) #### For all interporation \n",
    "#print(x_line)\n",
    "print(ocfit)\n",
    "#print(ocfit)\n",
    "#print(x)\n",
    "\n",
    "#Reduced_chisqrt\n",
    "m = 5\n",
    "dof = len_x - m\n",
    "Chi_sqr = ((y - ocfit)**2/(dy)**2)/dof\n",
    "Reduced_chisq_b0p0007 = sum(Chi_sqr)\n",
    "print(\"Reduced_chisq:\",Reduced_chisq_b0p0007)"
   ]
  },
  {
   "cell_type": "code",
   "execution_count": 25,
   "id": "49115d85",
   "metadata": {},
   "outputs": [
    {
     "data": {
      "image/png": "[encoded data removed]",
      "text/plain": [
       "<Figure size 720x360 with 1 Axes>"
      ]
     },
     "metadata": {
      "needs_background": "light"
     },
     "output_type": "display_data"
    }
   ],
   "source": [
    "N_BMJD = 2400000\n",
    "#print(phase)\n",
    "#fig,ax = plt.subplots()\n",
    "fig=plt.figure(figsize=(10, 5), tight_layout=True)\n",
    "plt.tick_params(direction='in', which='both', bottom='on',top='on', right = 'on')\n",
    "#plt.errorbar(x,y,dy,fmt='ok')\n",
    "plt.errorbar(x, y, yerr= dy, fmt='o', markersize=8, color='blue', ecolor='lightgray')\n",
    "plt.plot(x_line_b0p0001,y_line_b0p0001,'-g',label='LTT\\_fit\\_b = 0.0001 rad, $\\chi_{red}^{2}$ = '+str('%0.3f' %(Reduced_chisq_b0p0001)))\n",
    "plt.plot(x_line, y_line, '-', color='red',label='LTT\\_fit\\_b= 0.0005 rad, $\\chi_{red}^{2}$ = '+str('%0.3f' %(Reduced_chisq)))\n",
    "plt.plot(x_line_b0p0007,y_line_b0p0007,'-m',label='LTT\\_fit\\_b = 0.0007 rad, $\\chi_{red}^{2}$ = '+str('%0.3f' %(Reduced_chisq_b0p0007)))\n",
    "#plt.title('phased RV data for 51 Peg b')\n",
    "plt.xlabel('BJD-'+str(N_BMJD))\n",
    "plt.ylabel('O-C (sec)')\n",
    "plt.legend(loc=\"best\")\n",
    "plt.show()"
   ]
  },
  {
   "cell_type": "markdown",
   "id": "65da2b19",
   "metadata": {},
   "source": [
    "#### The changing parameters: b = 0.001"
   ]
  },
  {
   "cell_type": "code",
   "execution_count": 26,
   "id": "7cbf757e",
   "metadata": {},
   "outputs": [],
   "source": [
    "m = 0\n",
    "c = 0\n",
    "K = 33.7        #m/s\n",
    "e = 0               #No-unit\n",
    "b = 0.001\n",
    "w = -1.36     #rad"
   ]
  },
  {
   "cell_type": "code",
   "execution_count": 27,
   "id": "e2c01f1a",
   "metadata": {},
   "outputs": [],
   "source": [
    "def LTT_fit_b0p001(x,m,c,e,b,w):\n",
    "    return m*x + c + K*(1 - e*e)*np.sin(b*x - w)/(1 + e*np.cos(b*x))"
   ]
  },
  {
   "cell_type": "code",
   "execution_count": 28,
   "id": "37197360",
   "metadata": {},
   "outputs": [],
   "source": [
    "import scipy.optimize as optimization  \n",
    "guess = (m,c,K,e,w)\n",
    "#guess = [41.9455, 0.39, 0.0005, -1.36]\n",
    "params_b0p001, params_covariance_b0p001 = optimization.curve_fit(LTT_fit_b0p001, x, y,sigma=dy, absolute_sigma=True,p0=guess)"
   ]
  },
  {
   "cell_type": "code",
   "execution_count": 29,
   "id": "7cd167ad",
   "metadata": {},
   "outputs": [],
   "source": [
    "m = params_b0p001[0]\n",
    "c = params_b0p001[1]\n",
    "K = params_b0p001[2]\n",
    "e = params_b0p001[3]\n",
    "w = params_b0p001[4]\n",
    "\n",
    "dm = params_covariance_b0p001[0,0]\n",
    "dc = params_covariance_b0p001[1,1]\n",
    "dK = params_covariance_b0p001[2,2]\n",
    "de = params_covariance_b0p001[3,3]\n",
    "dw = params_covariance_b0p001[4,4]\n",
    "\n",
    "ocfit = LTT_fit_b0p001(x,*params_b0p001)\n",
    "\n",
    "if e<0:\n",
    "    w -= np.pi\n",
    "    e *= -1\n",
    "    w_deg = w*180/np.pi"
   ]
  },
  {
   "cell_type": "code",
   "execution_count": 30,
   "id": "f9e57b9d",
   "metadata": {},
   "outputs": [
    {
     "name": "stdout",
     "output_type": "stream",
     "text": [
      "The Keplerian parameters (b = 0.001 rad):\n",
      "m = 0.00463899661107019 +/- 3.784127123056962 [s]\n",
      "c = -629.0818059243824 +/- nan [s]\n",
      "K = 11.905867558377148 +/- nan [days]\n",
      "e = 5.89673434028486e-08 +/- 0.00761586366335107 [rad]\n",
      "w = -1.3612921576865407 +/- 184294.58307406548 [rad]\n",
      "w_deg = -77.99629531969613 +/- 10559301.797267089 [deg]\n",
      "Pc = 6283.185307179586 +/- 9.387955499261121 [days]\n",
      "Pc_yr = 17.202423838958484 +/- 0.0257028213532132 [years]\n",
      "Semi-major axis = 6.663868664800319 +/- 0.006637833033146492 [AU]\n",
      "Mass sin(i)Mp= 1.0810427879602054 +/- 24792174436.109306 [MJ]\n"
     ]
    },
    {
     "name": "stderr",
     "output_type": "stream",
     "text": [
      "/var/folders/40/qs1cq6qj3mn08n4rf87fxb6m0000gn/T/ipykernel_3371/8007321.py:3: RuntimeWarning: invalid value encountered in double_scalars\n",
      "  print(\"c =\", c, \"+/-\", dc**0.5, \"[s]\")\n",
      "/var/folders/40/qs1cq6qj3mn08n4rf87fxb6m0000gn/T/ipykernel_3371/8007321.py:4: RuntimeWarning: invalid value encountered in double_scalars\n",
      "  print(\"K =\", K, \"+/-\", dK**0.5, \"[days]\")\n"
     ]
    }
   ],
   "source": [
    "print(\"The Keplerian parameters (b = 0.001 rad):\")\n",
    "print(\"m =\", m, \"+/-\", dm**0.5, \"[s]\")\n",
    "print(\"c =\", c, \"+/-\", dc**0.5, \"[s]\")\n",
    "print(\"K =\", K, \"+/-\", dK**0.5, \"[days]\")\n",
    "print(\"e =\", e, \"+/-\", de**0.5, \"[rad]\")\n",
    "print(\"w =\", w, \"+/-\", dw**0.5, \"[rad]\")\n",
    "print(\"w_deg =\", w*(180/np.pi), \"+/-\", dw**0.5*(180/np.pi), \"[deg]\")\n",
    "\n",
    "#The period of the third body\n",
    "P_d = 2*np.pi/b\n",
    "dP_d = P_d*2*np.pi*db/(b**2)\n",
    "\n",
    "#print(\"The orbital period of the third body (years):\",P_d, '+/-', dP_d)\n",
    "print(\"Pc =\", P_d, \"+/-\", dP_d, \"[days]\")\n",
    "\n",
    "P_yr = P_d/365.25\n",
    "dP_yr = dP_d/365.25\n",
    "#print(\"The orbital period of the third body (days):\",P_yr, '+/-', dP_yr)\n",
    "print(\"Pc_yr =\", P_yr, \"+/-\", dP_yr, \"[years]\")\n",
    "\n",
    "a_au = (P_yr**2)**(1./3)     # semi-major axis in au\n",
    "da_au = np.sqrt((2*dP_d/(3*P_d))**2)*a_au\n",
    "#print(\"Semi-major axis (AU):\",a_au, '+/-', da_au)\n",
    "print(\"Semi-major axis =\", a_au, \"+/-\", da_au, \"[AU]\")\n",
    "\n",
    "K_auyr = K*2.1096256684e-4      # K in au/yr\n",
    "\n",
    "# compute planet mass and convert to Jupiter-mass units\n",
    "mp = (2*np.pi)**(-1)*K_auyr*np.sqrt(1-e**2)*(P_yr)**(1/3)\n",
    "mp_mjup = mp*1047.59421\n",
    "dmp_mjup = mp_mjup * np.sqrt((dK/K)**2 + (dP_d/(3*P_d))**2 + (e*de/np.sqrt(1-e*e))**2 )\n",
    "\n",
    "print ('Mass sin(i)Mp=', mp_mjup ,'+/-', dmp_mjup, \"[MJ]\")"
   ]
  },
  {
   "cell_type": "code",
   "execution_count": 31,
   "id": "00fc5844",
   "metadata": {},
   "outputs": [
    {
     "name": "stdout",
     "output_type": "stream",
     "text": [
      "[-297.03612342 -293.42434094 -289.44566587 -288.35327698 -276.88223966\n",
      " -275.89374851 -274.17762649 -261.53113215 -259.61184609 -247.39203243\n",
      " -247.29215392 -247.15593147 -247.02313969 -246.38940244 -246.27822053\n",
      " -246.05251464 -245.88088953 -245.2129301  -239.08069789 -237.27795909\n",
      " -234.27488901 -233.98265068 -233.98265068 -230.50500116 -229.00664755]\n",
      "Reduced_chisq: 19358.73611496005\n"
     ]
    }
   ],
   "source": [
    "x_min, x_max = np.amin(x), np.amax(x)\n",
    "x_line_b0p001 = np.linspace(x_min, x_max)\n",
    "y_line_b0p001 = LTT_fit_b0p001(x_line_b0p001, *params_b0p001) #### For all interporation \n",
    "#print(x_line)\n",
    "print(ocfit)\n",
    "#print(ocfit)\n",
    "#print(x)\n",
    "\n",
    "#Reduced_chisqrt\n",
    "m = 5\n",
    "dof = len_x - m\n",
    "Chi_sqr = ((y - ocfit)**2/(dy)**2)/dof\n",
    "Reduced_chisq_b0p001 = sum(Chi_sqr)\n",
    "print(\"Reduced_chisq:\",Reduced_chisq_b0p001)"
   ]
  },
  {
   "cell_type": "code",
   "execution_count": 32,
   "id": "b7b04ee5",
   "metadata": {},
   "outputs": [
    {
     "data": {
      "image/png": "[encoded data removed]",
      "text/plain": [
       "<Figure size 720x360 with 1 Axes>"
      ]
     },
     "metadata": {
      "needs_background": "light"
     },
     "output_type": "display_data"
    }
   ],
   "source": [
    "N_BMJD = 2400000\n",
    "#print(phase)\n",
    "#fig,ax = plt.subplots()\n",
    "fig=plt.figure(figsize=(10, 5), tight_layout=True)\n",
    "plt.tick_params(direction='in', which='both', bottom='on',top='on', right = 'on')\n",
    "#plt.errorbar(x,y,dy,fmt='ok')\n",
    "plt.errorbar(x, y, yerr= dy, fmt='o', markersize=8, color='blue', ecolor='lightgray')\n",
    "plt.plot(x_line_b0p0001,y_line_b0p0001,'-g',label='LTT\\_fit\\_b = 0.0001 rad, $\\chi_{red}^{2}$ = '+str('%0.3f' %(Reduced_chisq_b0p0001)))\n",
    "plt.plot(x_line, y_line, '-', color='red',label='LTT\\_fit\\_b= 0.0005 rad, $\\chi_{red}^{2}$ = '+str('%0.3f' %(Reduced_chisq)))\n",
    "plt.plot(x_line_b0p0007,y_line_b0p0007,'-m',label='LTT\\_fit\\_b = 0.0007 rad, $\\chi_{red}^{2}$ = '+str('%0.3f' %(Reduced_chisq_b0p0007)))\n",
    "plt.plot(x_line_b0p001, y_line_b0p001,'-b',label='LTT\\_fit\\_b = 0.001 rad, $\\chi_{red}^{2}$ = '+str('%0.3f' %(Reduced_chisq_b0p001)))\n",
    "#plt.title('phased RV data for 51 Peg b')\n",
    "plt.xlabel('BJD-'+str(N_BMJD))\n",
    "plt.ylabel('O-C (sec)')\n",
    "plt.legend(loc=\"best\")\n",
    "plt.savefig(\"DP_Leo_LTT_fit_weighted_data_Thiswork_b_Res.jpg\", dpi=1000)\n",
    "plt.show()"
   ]
  },
  {
   "cell_type": "code",
   "execution_count": null,
   "id": "7718a575",
   "metadata": {},
   "outputs": [],
   "source": []
  }
 ],
 "metadata": {
  "kernelspec": {
   "display_name": "Python 3 (ipykernel)",
   "language": "python",
   "name": "python3"
  },
  "language_info": {
   "codemirror_mode": {
    "name": "ipython",
    "version": 3
   },
   "file_extension": ".py",
   "mimetype": "text/x-python",
   "name": "python",
   "nbconvert_exporter": "python",
   "pygments_lexer": "ipython3",
   "version": "3.9.7"
  }
 },
 "nbformat": 4,
 "nbformat_minor": 5
}
